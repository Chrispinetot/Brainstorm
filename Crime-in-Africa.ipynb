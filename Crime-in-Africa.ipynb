{
 "cells": [
  {
   "cell_type": "code",
   "execution_count": 1,
   "metadata": {},
   "outputs": [],
   "source": [
    "import numpy as np\n",
    "import pandas as pd\n",
    "import matplotlib.pyplot as plt\n",
    "import seaborn as sns\n",
    "import plotly.express as px"
   ]
  },
  {
   "cell_type": "code",
   "execution_count": 2,
   "metadata": {},
   "outputs": [],
   "source": [
    "crime = pd.read_excel(\"Africa_1997-2023_Mar31.xlsx\")"
   ]
  },
  {
   "cell_type": "code",
   "execution_count": 4,
   "metadata": {},
   "outputs": [
    {
     "data": {
      "text/html": [
       "<div>\n",
       "<style scoped>\n",
       "    .dataframe tbody tr th:only-of-type {\n",
       "        vertical-align: middle;\n",
       "    }\n",
       "\n",
       "    .dataframe tbody tr th {\n",
       "        vertical-align: top;\n",
       "    }\n",
       "\n",
       "    .dataframe thead th {\n",
       "        text-align: right;\n",
       "    }\n",
       "</style>\n",
       "<table border=\"1\" class=\"dataframe\">\n",
       "  <thead>\n",
       "    <tr style=\"text-align: right;\">\n",
       "      <th></th>\n",
       "      <th>EVENT_ID_CNTY</th>\n",
       "      <th>EVENT_DATE</th>\n",
       "      <th>YEAR</th>\n",
       "      <th>TIME_PRECISION</th>\n",
       "      <th>DISORDER_TYPE</th>\n",
       "      <th>EVENT_TYPE</th>\n",
       "      <th>SUB_EVENT_TYPE</th>\n",
       "      <th>ACTOR1</th>\n",
       "      <th>ASSOC_ACTOR_1</th>\n",
       "      <th>INTER1</th>\n",
       "      <th>...</th>\n",
       "      <th>LOCATION</th>\n",
       "      <th>LATITUDE</th>\n",
       "      <th>LONGITUDE</th>\n",
       "      <th>GEO_PRECISION</th>\n",
       "      <th>SOURCE</th>\n",
       "      <th>SOURCE_SCALE</th>\n",
       "      <th>NOTES</th>\n",
       "      <th>FATALITIES</th>\n",
       "      <th>TAGS</th>\n",
       "      <th>TIMESTAMP</th>\n",
       "    </tr>\n",
       "  </thead>\n",
       "  <tbody>\n",
       "    <tr>\n",
       "      <th>0</th>\n",
       "      <td>ALG1</td>\n",
       "      <td>1997-01-01</td>\n",
       "      <td>1997</td>\n",
       "      <td>1</td>\n",
       "      <td>Political violence</td>\n",
       "      <td>Violence against civilians</td>\n",
       "      <td>Attack</td>\n",
       "      <td>GIA: Armed Islamic Group</td>\n",
       "      <td>NaN</td>\n",
       "      <td>2</td>\n",
       "      <td>...</td>\n",
       "      <td>Douaouda</td>\n",
       "      <td>36.672</td>\n",
       "      <td>2.789</td>\n",
       "      <td>1</td>\n",
       "      <td>Algeria Watch</td>\n",
       "      <td>Other</td>\n",
       "      <td>5 January: Beheading of 5 citizens in Douaouda...</td>\n",
       "      <td>5</td>\n",
       "      <td>NaN</td>\n",
       "      <td>1582579226</td>\n",
       "    </tr>\n",
       "    <tr>\n",
       "      <th>1</th>\n",
       "      <td>ALG2</td>\n",
       "      <td>1997-01-02</td>\n",
       "      <td>1997</td>\n",
       "      <td>1</td>\n",
       "      <td>Political violence</td>\n",
       "      <td>Violence against civilians</td>\n",
       "      <td>Attack</td>\n",
       "      <td>GIA: Armed Islamic Group</td>\n",
       "      <td>NaN</td>\n",
       "      <td>2</td>\n",
       "      <td>...</td>\n",
       "      <td>Hassasna</td>\n",
       "      <td>36.133</td>\n",
       "      <td>0.883</td>\n",
       "      <td>1</td>\n",
       "      <td>Algeria Watch</td>\n",
       "      <td>Other</td>\n",
       "      <td>Two citizens were beheaded in Hassasna.</td>\n",
       "      <td>2</td>\n",
       "      <td>NaN</td>\n",
       "      <td>1582579226</td>\n",
       "    </tr>\n",
       "    <tr>\n",
       "      <th>2</th>\n",
       "      <td>ALG3</td>\n",
       "      <td>1997-01-03</td>\n",
       "      <td>1997</td>\n",
       "      <td>1</td>\n",
       "      <td>Political violence</td>\n",
       "      <td>Violence against civilians</td>\n",
       "      <td>Attack</td>\n",
       "      <td>GIA: Armed Islamic Group</td>\n",
       "      <td>NaN</td>\n",
       "      <td>2</td>\n",
       "      <td>...</td>\n",
       "      <td>Hassi El Abed</td>\n",
       "      <td>34.966</td>\n",
       "      <td>-0.290</td>\n",
       "      <td>1</td>\n",
       "      <td>Algeria Watch</td>\n",
       "      <td>Other</td>\n",
       "      <td>Two citizens were killed in a raid on the vill...</td>\n",
       "      <td>2</td>\n",
       "      <td>NaN</td>\n",
       "      <td>1582579226</td>\n",
       "    </tr>\n",
       "    <tr>\n",
       "      <th>3</th>\n",
       "      <td>ALG4</td>\n",
       "      <td>1997-01-04</td>\n",
       "      <td>1997</td>\n",
       "      <td>1</td>\n",
       "      <td>Political violence</td>\n",
       "      <td>Violence against civilians</td>\n",
       "      <td>Attack</td>\n",
       "      <td>GIA: Armed Islamic Group</td>\n",
       "      <td>NaN</td>\n",
       "      <td>2</td>\n",
       "      <td>...</td>\n",
       "      <td>Blida</td>\n",
       "      <td>36.469</td>\n",
       "      <td>2.829</td>\n",
       "      <td>1</td>\n",
       "      <td>Algeria Watch</td>\n",
       "      <td>Other</td>\n",
       "      <td>4 January: 16 citizens were murdered in the vi...</td>\n",
       "      <td>16</td>\n",
       "      <td>NaN</td>\n",
       "      <td>1582579226</td>\n",
       "    </tr>\n",
       "    <tr>\n",
       "      <th>4</th>\n",
       "      <td>ALG5</td>\n",
       "      <td>1997-01-05</td>\n",
       "      <td>1997</td>\n",
       "      <td>1</td>\n",
       "      <td>Political violence</td>\n",
       "      <td>Violence against civilians</td>\n",
       "      <td>Attack</td>\n",
       "      <td>GIA: Armed Islamic Group</td>\n",
       "      <td>NaN</td>\n",
       "      <td>2</td>\n",
       "      <td>...</td>\n",
       "      <td>Douaouda</td>\n",
       "      <td>36.672</td>\n",
       "      <td>2.789</td>\n",
       "      <td>1</td>\n",
       "      <td>Algeria Watch</td>\n",
       "      <td>Other</td>\n",
       "      <td>5 January: Killing of 18 citizens in the Olivi...</td>\n",
       "      <td>18</td>\n",
       "      <td>NaN</td>\n",
       "      <td>1582579226</td>\n",
       "    </tr>\n",
       "  </tbody>\n",
       "</table>\n",
       "<p>5 rows × 31 columns</p>\n",
       "</div>"
      ],
      "text/plain": [
       "  EVENT_ID_CNTY EVENT_DATE  YEAR  TIME_PRECISION       DISORDER_TYPE  \\\n",
       "0          ALG1 1997-01-01  1997               1  Political violence   \n",
       "1          ALG2 1997-01-02  1997               1  Political violence   \n",
       "2          ALG3 1997-01-03  1997               1  Political violence   \n",
       "3          ALG4 1997-01-04  1997               1  Political violence   \n",
       "4          ALG5 1997-01-05  1997               1  Political violence   \n",
       "\n",
       "                   EVENT_TYPE SUB_EVENT_TYPE                    ACTOR1  \\\n",
       "0  Violence against civilians         Attack  GIA: Armed Islamic Group   \n",
       "1  Violence against civilians         Attack  GIA: Armed Islamic Group   \n",
       "2  Violence against civilians         Attack  GIA: Armed Islamic Group   \n",
       "3  Violence against civilians         Attack  GIA: Armed Islamic Group   \n",
       "4  Violence against civilians         Attack  GIA: Armed Islamic Group   \n",
       "\n",
       "  ASSOC_ACTOR_1  INTER1  ...       LOCATION LATITUDE  LONGITUDE  \\\n",
       "0           NaN       2  ...       Douaouda   36.672      2.789   \n",
       "1           NaN       2  ...       Hassasna   36.133      0.883   \n",
       "2           NaN       2  ...  Hassi El Abed   34.966     -0.290   \n",
       "3           NaN       2  ...          Blida   36.469      2.829   \n",
       "4           NaN       2  ...       Douaouda   36.672      2.789   \n",
       "\n",
       "   GEO_PRECISION         SOURCE  SOURCE_SCALE  \\\n",
       "0              1  Algeria Watch         Other   \n",
       "1              1  Algeria Watch         Other   \n",
       "2              1  Algeria Watch         Other   \n",
       "3              1  Algeria Watch         Other   \n",
       "4              1  Algeria Watch         Other   \n",
       "\n",
       "                                               NOTES FATALITIES TAGS  \\\n",
       "0  5 January: Beheading of 5 citizens in Douaouda...          5  NaN   \n",
       "1            Two citizens were beheaded in Hassasna.          2  NaN   \n",
       "2  Two citizens were killed in a raid on the vill...          2  NaN   \n",
       "3  4 January: 16 citizens were murdered in the vi...         16  NaN   \n",
       "4  5 January: Killing of 18 citizens in the Olivi...         18  NaN   \n",
       "\n",
       "    TIMESTAMP  \n",
       "0  1582579226  \n",
       "1  1582579226  \n",
       "2  1582579226  \n",
       "3  1582579226  \n",
       "4  1582579226  \n",
       "\n",
       "[5 rows x 31 columns]"
      ]
     },
     "execution_count": 4,
     "metadata": {},
     "output_type": "execute_result"
    }
   ],
   "source": [
    "crime.head()"
   ]
  },
  {
   "cell_type": "code",
   "execution_count": 5,
   "metadata": {},
   "outputs": [
    {
     "data": {
      "text/plain": [
       "(315940, 31)"
      ]
     },
     "execution_count": 5,
     "metadata": {},
     "output_type": "execute_result"
    }
   ],
   "source": [
    "crime.shape"
   ]
  },
  {
   "cell_type": "code",
   "execution_count": 6,
   "metadata": {},
   "outputs": [
    {
     "data": {
      "text/plain": [
       "EVENT_ID_CNTY                 object\n",
       "EVENT_DATE            datetime64[ns]\n",
       "YEAR                           int64\n",
       "TIME_PRECISION                 int64\n",
       "DISORDER_TYPE                 object\n",
       "EVENT_TYPE                    object\n",
       "SUB_EVENT_TYPE                object\n",
       "ACTOR1                        object\n",
       "ASSOC_ACTOR_1                 object\n",
       "INTER1                         int64\n",
       "ACTOR2                        object\n",
       "ASSOC_ACTOR_2                 object\n",
       "INTER2                         int64\n",
       "INTERACTION                    int64\n",
       "CIVILIAN_TARGETING            object\n",
       "ISO                            int64\n",
       "REGION                        object\n",
       "COUNTRY                       object\n",
       "ADMIN1                        object\n",
       "ADMIN2                        object\n",
       "ADMIN3                        object\n",
       "LOCATION                      object\n",
       "LATITUDE                     float64\n",
       "LONGITUDE                    float64\n",
       "GEO_PRECISION                  int64\n",
       "SOURCE                        object\n",
       "SOURCE_SCALE                  object\n",
       "NOTES                         object\n",
       "FATALITIES                     int64\n",
       "TAGS                          object\n",
       "TIMESTAMP                      int64\n",
       "dtype: object"
      ]
     },
     "execution_count": 6,
     "metadata": {},
     "output_type": "execute_result"
    }
   ],
   "source": [
    "crime.dtypes"
   ]
  },
  {
   "cell_type": "code",
   "execution_count": 7,
   "metadata": {},
   "outputs": [
    {
     "data": {
      "text/plain": [
       "array([1, 2, 3])"
      ]
     },
     "execution_count": 7,
     "metadata": {},
     "output_type": "execute_result"
    }
   ],
   "source": [
    "crime.TIME_PRECISION.unique()"
   ]
  },
  {
   "cell_type": "code",
   "execution_count": 8,
   "metadata": {},
   "outputs": [
    {
     "data": {
      "text/plain": [
       "'GIA: Armed Islamic Group'"
      ]
     },
     "execution_count": 8,
     "metadata": {},
     "output_type": "execute_result"
    }
   ],
   "source": [
    "crime.ACTOR1[0]"
   ]
  },
  {
   "cell_type": "code",
   "execution_count": 9,
   "metadata": {},
   "outputs": [
    {
     "data": {
      "text/plain": [
       "array(['GIA: Armed Islamic Group', 'Police Forces of Algeria (1994-1999)',\n",
       "       'Military Forces of Algeria (1994-1999)', ..., 'PF: People First',\n",
       "       'Police Forces of Zambia (2021-)',\n",
       "       'Military Forces of Zambia (2021-)'], dtype=object)"
      ]
     },
     "execution_count": 9,
     "metadata": {},
     "output_type": "execute_result"
    }
   ],
   "source": [
    "crime.ACTOR1.unique()"
   ]
  },
  {
   "cell_type": "code",
   "execution_count": 10,
   "metadata": {},
   "outputs": [
    {
     "data": {
      "text/plain": [
       "EVENT_ID_CNTY         315940\n",
       "EVENT_DATE              9575\n",
       "YEAR                      27\n",
       "TIME_PRECISION             3\n",
       "DISORDER_TYPE              4\n",
       "EVENT_TYPE                 6\n",
       "SUB_EVENT_TYPE            25\n",
       "ACTOR1                  5367\n",
       "ASSOC_ACTOR_1           9609\n",
       "INTER1                     8\n",
       "ACTOR2                  4751\n",
       "ASSOC_ACTOR_2          10128\n",
       "INTER2                     9\n",
       "INTERACTION               43\n",
       "CIVILIAN_TARGETING         1\n",
       "ISO                       57\n",
       "REGION                     5\n",
       "COUNTRY                   57\n",
       "ADMIN1                   866\n",
       "ADMIN2                  5386\n",
       "ADMIN3                  8013\n",
       "LOCATION               34022\n",
       "LATITUDE               20729\n",
       "LONGITUDE              23044\n",
       "GEO_PRECISION              3\n",
       "SOURCE                 24808\n",
       "SOURCE_SCALE              24\n",
       "NOTES                 293320\n",
       "FATALITIES               274\n",
       "TAGS                    1055\n",
       "TIMESTAMP              16116\n",
       "dtype: int64"
      ]
     },
     "execution_count": 10,
     "metadata": {},
     "output_type": "execute_result"
    }
   ],
   "source": [
    "crime.nunique()"
   ]
  },
  {
   "cell_type": "code",
   "execution_count": 11,
   "metadata": {},
   "outputs": [
    {
     "data": {
      "text/plain": [
       "array([nan, 'GLD: Legitimate Defence Groups Militia', 'Women (Algeria)',\n",
       "       ..., 'Women (Zambia); Students (Zambia)',\n",
       "       'Civilians (Zambia); Journalists (Zambia)', 'LGBTQ+ (Zambia)'],\n",
       "      dtype=object)"
      ]
     },
     "execution_count": 11,
     "metadata": {},
     "output_type": "execute_result"
    }
   ],
   "source": [
    "crime.ASSOC_ACTOR_1.unique()"
   ]
  },
  {
   "cell_type": "code",
   "execution_count": 12,
   "metadata": {},
   "outputs": [
    {
     "data": {
      "text/plain": [
       "array(['Political violence', 'Demonstrations', 'Strategic developments',\n",
       "       'Political violence; Demonstrations'], dtype=object)"
      ]
     },
     "execution_count": 12,
     "metadata": {},
     "output_type": "execute_result"
    }
   ],
   "source": [
    "crime.DISORDER_TYPE.unique()"
   ]
  },
  {
   "cell_type": "code",
   "execution_count": 13,
   "metadata": {},
   "outputs": [
    {
     "data": {
      "text/plain": [
       "array([nan, 'women targeted: girls', 'crowd size=no report', ...,\n",
       "       'crowd size=about 189',\n",
       "       'crowd size=5; women targeted: government officials; women targeted: political party supporters',\n",
       "       'crowd size=over 36'], dtype=object)"
      ]
     },
     "execution_count": 13,
     "metadata": {},
     "output_type": "execute_result"
    }
   ],
   "source": [
    "crime.TAGS.unique()"
   ]
  },
  {
   "cell_type": "code",
   "execution_count": 14,
   "metadata": {},
   "outputs": [
    {
     "data": {
      "text/plain": [
       "array([nan, 'women targeted: girls', 'crowd size=no report',\n",
       "       'crowd size=about 10,000', 'crowd size=around 100',\n",
       "       'crowd size=thousands', 'crowd size=hundreds', 'crowd size=dozens',\n",
       "       'crowd size=around a hundred', 'crowd size=around a thousand',\n",
       "       'crowd size=around 30', 'crowd size=millions',\n",
       "       'crowd size=several thousands', 'crowd size=600',\n",
       "       'crowd size=several hundred'], dtype=object)"
      ]
     },
     "execution_count": 14,
     "metadata": {},
     "output_type": "execute_result"
    }
   ],
   "source": [
    "crime.TAGS.unique()[:15]"
   ]
  },
  {
   "cell_type": "code",
   "execution_count": 15,
   "metadata": {},
   "outputs": [
    {
     "data": {
      "text/plain": [
       "array([ 5,  2, 16, 18, 23,  4,  7,  1,  0, 20, 14, 15, 43,  6, 54])"
      ]
     },
     "execution_count": 15,
     "metadata": {},
     "output_type": "execute_result"
    }
   ],
   "source": [
    "crime.FATALITIES.unique()[:15]"
   ]
  },
  {
   "cell_type": "code",
   "execution_count": 16,
   "metadata": {},
   "outputs": [
    {
     "data": {
      "text/plain": [
       "array(['Violence against civilians', 'Battles',\n",
       "       'Explosions/Remote violence', 'Protests', 'Strategic developments',\n",
       "       'Riots'], dtype=object)"
      ]
     },
     "execution_count": 16,
     "metadata": {},
     "output_type": "execute_result"
    }
   ],
   "source": [
    "crime.EVENT_TYPE.unique()"
   ]
  },
  {
   "cell_type": "code",
   "execution_count": 30,
   "metadata": {},
   "outputs": [],
   "source": [
    "fatalities_per_event_type = crime.groupby(['EVENT_TYPE'])[['FATALITIES']].sum()"
   ]
  },
  {
   "cell_type": "code",
   "execution_count": 40,
   "metadata": {},
   "outputs": [
    {
     "data": {
      "text/html": [
       "<div>\n",
       "<style scoped>\n",
       "    .dataframe tbody tr th:only-of-type {\n",
       "        vertical-align: middle;\n",
       "    }\n",
       "\n",
       "    .dataframe tbody tr th {\n",
       "        vertical-align: top;\n",
       "    }\n",
       "\n",
       "    .dataframe thead th {\n",
       "        text-align: right;\n",
       "    }\n",
       "</style>\n",
       "<table border=\"1\" class=\"dataframe\">\n",
       "  <thead>\n",
       "    <tr style=\"text-align: right;\">\n",
       "      <th></th>\n",
       "      <th>FATALITIES</th>\n",
       "    </tr>\n",
       "    <tr>\n",
       "      <th>EVENT_TYPE</th>\n",
       "      <th></th>\n",
       "    </tr>\n",
       "  </thead>\n",
       "  <tbody>\n",
       "    <tr>\n",
       "      <th>Battles</th>\n",
       "      <td>536107</td>\n",
       "    </tr>\n",
       "    <tr>\n",
       "      <th>Violence against civilians</th>\n",
       "      <td>234876</td>\n",
       "    </tr>\n",
       "    <tr>\n",
       "      <th>Explosions/Remote violence</th>\n",
       "      <td>72450</td>\n",
       "    </tr>\n",
       "    <tr>\n",
       "      <th>Riots</th>\n",
       "      <td>20194</td>\n",
       "    </tr>\n",
       "    <tr>\n",
       "      <th>Protests</th>\n",
       "      <td>4212</td>\n",
       "    </tr>\n",
       "    <tr>\n",
       "      <th>Strategic developments</th>\n",
       "      <td>692</td>\n",
       "    </tr>\n",
       "  </tbody>\n",
       "</table>\n",
       "</div>"
      ],
      "text/plain": [
       "                            FATALITIES\n",
       "EVENT_TYPE                            \n",
       "Battles                         536107\n",
       "Violence against civilians      234876\n",
       "Explosions/Remote violence       72450\n",
       "Riots                            20194\n",
       "Protests                          4212\n",
       "Strategic developments             692"
      ]
     },
     "execution_count": 40,
     "metadata": {},
     "output_type": "execute_result"
    }
   ],
   "source": [
    "fatalities_per_event_type.sort_values(by=['FATALITIES'], axis=0, ascending=False)"
   ]
  },
  {
   "cell_type": "code",
   "execution_count": 34,
   "metadata": {},
   "outputs": [
    {
     "data": {
      "text/plain": [
       "<AxesSubplot:xlabel='EVENT_TYPE'>"
      ]
     },
     "execution_count": 34,
     "metadata": {},
     "output_type": "execute_result"
    },
    {
     "data": {
      "image/png": "[encoded data removed]",
      "text/plain": [
       "<Figure size 432x288 with 1 Axes>"
      ]
     },
     "metadata": {
      "needs_background": "light"
     },
     "output_type": "display_data"
    }
   ],
   "source": [
    "fatalities_per_event_type.plot(kind='bar')"
   ]
  },
  {
   "cell_type": "code",
   "execution_count": 43,
   "metadata": {},
   "outputs": [
    {
     "data": {
      "text/plain": [
       "array(['Attack', 'Armed clash', 'Remote explosive/landmine/IED',\n",
       "       'Shelling/artillery/missile attack', 'Peaceful protest',\n",
       "       'Change to group/activity', 'Looting/property destruction',\n",
       "       'Government regains territory', 'Disrupted weapons use',\n",
       "       'Protest with intervention', 'Violent demonstration',\n",
       "       'Mob violence', 'Air/drone strike', 'Other', 'Arrests',\n",
       "       'Excessive force against protesters',\n",
       "       'Abduction/forced disappearance', 'Suicide bomb', 'Grenade',\n",
       "       'Non-violent transfer of territory',\n",
       "       'Headquarters or base established', 'Agreement',\n",
       "       'Non-state actor overtakes territory', 'Sexual violence',\n",
       "       'Chemical weapon'], dtype=object)"
      ]
     },
     "execution_count": 43,
     "metadata": {},
     "output_type": "execute_result"
    }
   ],
   "source": [
    "crime.SUB_EVENT_TYPE.unique()"
   ]
  },
  {
   "cell_type": "code",
   "execution_count": 44,
   "metadata": {},
   "outputs": [],
   "source": [
    "fatalities_by_event = crime.groupby(['EVENT_TYPE', 'SUB_EVENT_TYPE'])[['FATALITIES']].sum()"
   ]
  },
  {
   "cell_type": "code",
   "execution_count": 45,
   "metadata": {},
   "outputs": [
    {
     "data": {
      "text/html": [
       "<div>\n",
       "<style scoped>\n",
       "    .dataframe tbody tr th:only-of-type {\n",
       "        vertical-align: middle;\n",
       "    }\n",
       "\n",
       "    .dataframe tbody tr th {\n",
       "        vertical-align: top;\n",
       "    }\n",
       "\n",
       "    .dataframe thead th {\n",
       "        text-align: right;\n",
       "    }\n",
       "</style>\n",
       "<table border=\"1\" class=\"dataframe\">\n",
       "  <thead>\n",
       "    <tr style=\"text-align: right;\">\n",
       "      <th></th>\n",
       "      <th></th>\n",
       "      <th>FATALITIES</th>\n",
       "    </tr>\n",
       "    <tr>\n",
       "      <th>EVENT_TYPE</th>\n",
       "      <th>SUB_EVENT_TYPE</th>\n",
       "      <th></th>\n",
       "    </tr>\n",
       "  </thead>\n",
       "  <tbody>\n",
       "    <tr>\n",
       "      <th rowspan=\"3\" valign=\"top\">Battles</th>\n",
       "      <th>Armed clash</th>\n",
       "      <td>493220</td>\n",
       "    </tr>\n",
       "    <tr>\n",
       "      <th>Government regains territory</th>\n",
       "      <td>19264</td>\n",
       "    </tr>\n",
       "    <tr>\n",
       "      <th>Non-state actor overtakes territory</th>\n",
       "      <td>23623</td>\n",
       "    </tr>\n",
       "    <tr>\n",
       "      <th rowspan=\"6\" valign=\"top\">Explosions/Remote violence</th>\n",
       "      <th>Air/drone strike</th>\n",
       "      <td>26588</td>\n",
       "    </tr>\n",
       "    <tr>\n",
       "      <th>Chemical weapon</th>\n",
       "      <td>8</td>\n",
       "    </tr>\n",
       "    <tr>\n",
       "      <th>Grenade</th>\n",
       "      <td>1822</td>\n",
       "    </tr>\n",
       "    <tr>\n",
       "      <th>Remote explosive/landmine/IED</th>\n",
       "      <td>23006</td>\n",
       "    </tr>\n",
       "    <tr>\n",
       "      <th>Shelling/artillery/missile attack</th>\n",
       "      <td>13829</td>\n",
       "    </tr>\n",
       "    <tr>\n",
       "      <th>Suicide bomb</th>\n",
       "      <td>7197</td>\n",
       "    </tr>\n",
       "    <tr>\n",
       "      <th rowspan=\"3\" valign=\"top\">Protests</th>\n",
       "      <th>Excessive force against protesters</th>\n",
       "      <td>4212</td>\n",
       "    </tr>\n",
       "    <tr>\n",
       "      <th>Peaceful protest</th>\n",
       "      <td>0</td>\n",
       "    </tr>\n",
       "    <tr>\n",
       "      <th>Protest with intervention</th>\n",
       "      <td>0</td>\n",
       "    </tr>\n",
       "    <tr>\n",
       "      <th rowspan=\"2\" valign=\"top\">Riots</th>\n",
       "      <th>Mob violence</th>\n",
       "      <td>12347</td>\n",
       "    </tr>\n",
       "    <tr>\n",
       "      <th>Violent demonstration</th>\n",
       "      <td>7847</td>\n",
       "    </tr>\n",
       "    <tr>\n",
       "      <th rowspan=\"8\" valign=\"top\">Strategic developments</th>\n",
       "      <th>Agreement</th>\n",
       "      <td>0</td>\n",
       "    </tr>\n",
       "    <tr>\n",
       "      <th>Arrests</th>\n",
       "      <td>0</td>\n",
       "    </tr>\n",
       "    <tr>\n",
       "      <th>Change to group/activity</th>\n",
       "      <td>0</td>\n",
       "    </tr>\n",
       "    <tr>\n",
       "      <th>Disrupted weapons use</th>\n",
       "      <td>595</td>\n",
       "    </tr>\n",
       "    <tr>\n",
       "      <th>Headquarters or base established</th>\n",
       "      <td>1</td>\n",
       "    </tr>\n",
       "    <tr>\n",
       "      <th>Looting/property destruction</th>\n",
       "      <td>0</td>\n",
       "    </tr>\n",
       "    <tr>\n",
       "      <th>Non-violent transfer of territory</th>\n",
       "      <td>0</td>\n",
       "    </tr>\n",
       "    <tr>\n",
       "      <th>Other</th>\n",
       "      <td>96</td>\n",
       "    </tr>\n",
       "    <tr>\n",
       "      <th rowspan=\"3\" valign=\"top\">Violence against civilians</th>\n",
       "      <th>Abduction/forced disappearance</th>\n",
       "      <td>0</td>\n",
       "    </tr>\n",
       "    <tr>\n",
       "      <th>Attack</th>\n",
       "      <td>230306</td>\n",
       "    </tr>\n",
       "    <tr>\n",
       "      <th>Sexual violence</th>\n",
       "      <td>4570</td>\n",
       "    </tr>\n",
       "  </tbody>\n",
       "</table>\n",
       "</div>"
      ],
      "text/plain": [
       "                                                                FATALITIES\n",
       "EVENT_TYPE                 SUB_EVENT_TYPE                                 \n",
       "Battles                    Armed clash                              493220\n",
       "                           Government regains territory              19264\n",
       "                           Non-state actor overtakes territory       23623\n",
       "Explosions/Remote violence Air/drone strike                          26588\n",
       "                           Chemical weapon                               8\n",
       "                           Grenade                                    1822\n",
       "                           Remote explosive/landmine/IED             23006\n",
       "                           Shelling/artillery/missile attack         13829\n",
       "                           Suicide bomb                               7197\n",
       "Protests                   Excessive force against protesters         4212\n",
       "                           Peaceful protest                              0\n",
       "                           Protest with intervention                     0\n",
       "Riots                      Mob violence                              12347\n",
       "                           Violent demonstration                      7847\n",
       "Strategic developments     Agreement                                     0\n",
       "                           Arrests                                       0\n",
       "                           Change to group/activity                      0\n",
       "                           Disrupted weapons use                       595\n",
       "                           Headquarters or base established              1\n",
       "                           Looting/property destruction                  0\n",
       "                           Non-violent transfer of territory             0\n",
       "                           Other                                        96\n",
       "Violence against civilians Abduction/forced disappearance                0\n",
       "                           Attack                                   230306\n",
       "                           Sexual violence                            4570"
      ]
     },
     "execution_count": 45,
     "metadata": {},
     "output_type": "execute_result"
    }
   ],
   "source": [
    "fatalities_by_event"
   ]
  },
  {
   "cell_type": "code",
   "execution_count": 47,
   "metadata": {},
   "outputs": [
    {
     "data": {
      "text/plain": [
       "EVENT_ID_CNTY              0\n",
       "EVENT_DATE                 0\n",
       "YEAR                       0\n",
       "TIME_PRECISION             0\n",
       "DISORDER_TYPE              0\n",
       "EVENT_TYPE                 0\n",
       "SUB_EVENT_TYPE             0\n",
       "ACTOR1                     0\n",
       "ASSOC_ACTOR_1         231997\n",
       "INTER1                     0\n",
       "ACTOR2                 86136\n",
       "ASSOC_ACTOR_2         253699\n",
       "INTER2                     0\n",
       "INTERACTION                0\n",
       "CIVILIAN_TARGETING    220363\n",
       "ISO                        0\n",
       "REGION                     0\n",
       "COUNTRY                    0\n",
       "ADMIN1                     2\n",
       "ADMIN2                  2451\n",
       "ADMIN3                161453\n",
       "LOCATION                   0\n",
       "LATITUDE                   0\n",
       "LONGITUDE                  0\n",
       "GEO_PRECISION              0\n",
       "SOURCE                     0\n",
       "SOURCE_SCALE               0\n",
       "NOTES                      0\n",
       "FATALITIES                 0\n",
       "TAGS                  255561\n",
       "TIMESTAMP                  0\n",
       "dtype: int64"
      ]
     },
     "execution_count": 47,
     "metadata": {},
     "output_type": "execute_result"
    }
   ],
   "source": [
    "crime.isnull().sum()"
   ]
  },
  {
   "cell_type": "code",
   "execution_count": 48,
   "metadata": {},
   "outputs": [
    {
     "data": {
      "text/plain": [
       "array([2, 1, 6, 3, 8, 5, 4, 7])"
      ]
     },
     "execution_count": 48,
     "metadata": {},
     "output_type": "execute_result"
    }
   ],
   "source": [
    "crime.INTER1.unique()"
   ]
  },
  {
   "cell_type": "code",
   "execution_count": 57,
   "metadata": {},
   "outputs": [
    {
     "data": {
      "text/plain": [
       "array([7, 2, 1, 0, 3, 4, 5, 8, 6])"
      ]
     },
     "execution_count": 57,
     "metadata": {},
     "output_type": "execute_result"
    }
   ],
   "source": [
    "crime.INTER2.unique()"
   ]
  },
  {
   "cell_type": "code",
   "execution_count": 110,
   "metadata": {},
   "outputs": [],
   "source": [
    "#crime.groupby(['INTER1','ACTOR1'])\n",
    "actor_counts = crime.groupby('INTER1')['ACTOR1'].nunique()"
   ]
  },
  {
   "cell_type": "code",
   "execution_count": 111,
   "metadata": {},
   "outputs": [
    {
     "data": {
      "text/plain": [
       "INTER1\n",
       "1     788\n",
       "2     331\n",
       "3    1143\n",
       "4    2822\n",
       "5      61\n",
       "6      69\n",
       "7      23\n",
       "8     275\n",
       "Name: ACTOR1, dtype: int64"
      ]
     },
     "execution_count": 111,
     "metadata": {},
     "output_type": "execute_result"
    }
   ],
   "source": [
    "actor_counts"
   ]
  },
  {
   "cell_type": "code",
   "execution_count": 92,
   "metadata": {},
   "outputs": [],
   "source": [
    "no_crimes_by_actor = crime.groupby(['INTER1', 'ACTOR1'])['ACTOR1'].count()"
   ]
  },
  {
   "cell_type": "code",
   "execution_count": 112,
   "metadata": {},
   "outputs": [
    {
     "data": {
      "text/plain": [
       "INTER1  ACTOR1                                                               \n",
       "1       Civilians' Protection Joint Forces (Sudan)                                 6\n",
       "        Former Military Forces of Burkina Faso (1987-2014)                         2\n",
       "        Former Military Forces of Libya (2014-) Haftar Faction - Saiqa Forces      1\n",
       "        Former Military Forces of Rwanda (1994-)                                  11\n",
       "        Former Military Forces of South Sudan (2011-)                              4\n",
       "                                                                                ... \n",
       "8       UNMIS: United Nations Mission in Sudan (2005-2011)                         3\n",
       "        UNMISS: United Nations Mission in the Republic of South Sudan (2011-)     15\n",
       "        UNSMIL: United Nations Support Mission in Libya (2011-)                    2\n",
       "        Unidentified Military Forces                                             176\n",
       "        Wagner Group                                                             345\n",
       "Name: ACTOR1, Length: 5512, dtype: int64"
      ]
     },
     "execution_count": 112,
     "metadata": {},
     "output_type": "execute_result"
    }
   ],
   "source": [
    "no_crimes_by_actor"
   ]
  },
  {
   "cell_type": "code",
   "execution_count": 113,
   "metadata": {},
   "outputs": [
    {
     "data": {
      "text/plain": [
       "INTER1  ACTOR1                                                                   \n",
       "1       Civilians' Protection Joint Forces (Sudan)                                    6\n",
       "        Former Military Forces of Burkina Faso (1987-2014)                            2\n",
       "        Former Military Forces of Libya (2014-) Haftar Faction - Saiqa Forces         1\n",
       "        Former Military Forces of Rwanda (1994-)                                     11\n",
       "        Former Military Forces of South Sudan (2011-)                                 4\n",
       "                                                                                     ..\n",
       "        Police Forces of the Republic of Congo (1992-1997)                            2\n",
       "        Police Forces of the Republic of Congo (1997-)                               32\n",
       "        Police Forces of the Republic of Congo (1997-) Prison Guards                  1\n",
       "        Pro-GNA Faction and/or Military Forces of Turkey (2016-)                     13\n",
       "        Pro-Haftar Faction and/or Military Forces of United Arab Emirates (2004-)    67\n",
       "Name: ACTOR1, Length: 788, dtype: int64"
      ]
     },
     "execution_count": 113,
     "metadata": {},
     "output_type": "execute_result"
    }
   ],
   "source": [
    "no_crimes_by_actor[0:788]"
   ]
  },
  {
   "cell_type": "code",
   "execution_count": 115,
   "metadata": {},
   "outputs": [
    {
     "data": {
      "text/plain": [
       "INTER1  ACTOR1                                                                       \n",
       "2       ADF-NALU: Allied Democratic Forces-National Army for the Liberation of Uganda     685\n",
       "        ADF: Allied Democratic Forces                                                    1619\n",
       "        ADF: The Ambazonia Defense Forces                                                  16\n",
       "        ADFL: Alliance of Democratic Forces for Liberation                                 87\n",
       "        ADFM: Amhara Democratic Force Movement                                              2\n",
       "                                                                                         ... \n",
       "        UPRC: Patriots' Union for Resistance in Congo                                       2\n",
       "        URFF: United Revolutionary Forces Front                                             1\n",
       "        UWSLF: United Western Somali Liberation Front                                       1\n",
       "        WNBF: West Nile Bank Front                                                         15\n",
       "        Yau Yau Rebels                                                                     27\n",
       "Name: ACTOR1, Length: 331, dtype: int64"
      ]
     },
     "execution_count": 115,
     "metadata": {},
     "output_type": "execute_result"
    }
   ],
   "source": [
    "no_crimes_by_actor[788:1119]"
   ]
  },
  {
   "cell_type": "code",
   "execution_count": 117,
   "metadata": {},
   "outputs": [
    {
     "data": {
      "text/plain": [
       "INTER1  ACTOR1                                         \n",
       "3       101 Battalion (Tajoura)                             8\n",
       "        111th Brigade (Libya)                               1\n",
       "        116th Brigade                                       2\n",
       "        33rd Infantry Brigade                               1\n",
       "        40 Thieves                                          1\n",
       "                                                           ..\n",
       "        Zamfara State Anti-thuggery Committee (Nigeria)     4\n",
       "        Zaraguinas                                         13\n",
       "        Zawiya Martyrs Brigade                              3\n",
       "        Zawiya Security Directorate (Libya)                 2\n",
       "        Zintan Martyrs Brigade                              2\n",
       "Name: ACTOR1, Length: 1143, dtype: int64"
      ]
     },
     "execution_count": 117,
     "metadata": {},
     "output_type": "execute_result"
    }
   ],
   "source": [
    "no_crimes_by_actor[1119:2262]"
   ]
  },
  {
   "cell_type": "code",
   "execution_count": 116,
   "metadata": {},
   "outputs": [
    {
     "data": {
      "text/plain": [
       "2262"
      ]
     },
     "execution_count": 116,
     "metadata": {},
     "output_type": "execute_result"
    }
   ],
   "source": [
    "788+331+1143"
   ]
  },
  {
   "cell_type": "code",
   "execution_count": 123,
   "metadata": {},
   "outputs": [],
   "source": [
    "country_count = crime.groupby('COUNTRY')['COUNTRY'].count().sort_values(axis=0, ascending=False)"
   ]
  },
  {
   "cell_type": "code",
   "execution_count": 127,
   "metadata": {},
   "outputs": [
    {
     "data": {
      "text/plain": [
       "COUNTRY\n",
       "Somalia                                         39620\n",
       "Nigeria                                         30390\n",
       "Democratic Republic of Congo                    28607\n",
       "Sudan                                           19219\n",
       "South Africa                                    18703\n",
       "Algeria                                         12199\n",
       "Egypt                                           11457\n",
       "Libya                                           11092\n",
       "Kenya                                           10913\n",
       "Burundi                                         10186\n",
       "Tunisia                                          9966\n",
       "Ethiopia                                         9707\n",
       "South Sudan                                      8940\n",
       "Mali                                             8333\n",
       "Burkina Faso                                     8318\n",
       "Uganda                                           8278\n",
       "Cameroon                                         7107\n",
       "Morocco                                          7090\n",
       "Central African Republic                         6689\n",
       "Zimbabwe                                         6594\n",
       "Sierra Leone                                     5058\n",
       "Angola                                           3794\n",
       "Niger                                            3251\n",
       "Mozambique                                       3166\n",
       "Ivory Coast                                      2759\n",
       "Madagascar                                       2552\n",
       "Guinea                                           2417\n",
       "Ghana                                            1704\n",
       "Chad                                             1679\n",
       "Senegal                                          1676\n",
       "Liberia                                          1633\n",
       "Mauritania                                       1524\n",
       "Zambia                                           1509\n",
       "Malawi                                           1237\n",
       "Namibia                                          1087\n",
       "Tanzania                                         1025\n",
       "Benin                                             908\n",
       "Rwanda                                            819\n",
       "eSwatini                                          568\n",
       "Togo                                              523\n",
       "Republic of Congo                                 519\n",
       "Eritrea                                           431\n",
       "Gabon                                             368\n",
       "Mauritius                                         357\n",
       "Reunion                                           346\n",
       "Guinea-Bissau                                     313\n",
       "Gambia                                            282\n",
       "Lesotho                                           220\n",
       "Djibouti                                          201\n",
       "Cape Verde                                        171\n",
       "Mayotte                                           121\n",
       "Botswana                                          115\n",
       "Comoros                                            84\n",
       "Equatorial Guinea                                  77\n",
       "Sao Tome and Principe                              25\n",
       "Seychelles                                         11\n",
       "Saint Helena, Ascension and Tristan da Cunha        2\n",
       "Name: COUNTRY, dtype: int64"
      ]
     },
     "execution_count": 127,
     "metadata": {},
     "output_type": "execute_result"
    }
   ],
   "source": [
    "country_count"
   ]
  },
  {
   "cell_type": "code",
   "execution_count": 139,
   "metadata": {},
   "outputs": [],
   "source": [
    "crime['EVENT_DATE'] = pd.to_datetime(crime['EVENT_DATE'])"
   ]
  },
  {
   "cell_type": "code",
   "execution_count": 140,
   "metadata": {},
   "outputs": [
    {
     "data": {
      "text/plain": [
       "EVENT_ID_CNTY                 object\n",
       "EVENT_DATE            datetime64[ns]\n",
       "YEAR                           int64\n",
       "TIME_PRECISION                 int64\n",
       "DISORDER_TYPE                 object\n",
       "EVENT_TYPE                    object\n",
       "SUB_EVENT_TYPE                object\n",
       "ACTOR1                        object\n",
       "ASSOC_ACTOR_1                 object\n",
       "INTER1                         int64\n",
       "ACTOR2                        object\n",
       "ASSOC_ACTOR_2                 object\n",
       "INTER2                         int64\n",
       "INTERACTION                    int64\n",
       "CIVILIAN_TARGETING            object\n",
       "ISO                            int64\n",
       "REGION                        object\n",
       "COUNTRY                       object\n",
       "ADMIN1                        object\n",
       "ADMIN2                        object\n",
       "ADMIN3                        object\n",
       "LOCATION                      object\n",
       "LATITUDE                     float64\n",
       "LONGITUDE                    float64\n",
       "GEO_PRECISION                  int64\n",
       "SOURCE                        object\n",
       "SOURCE_SCALE                  object\n",
       "NOTES                         object\n",
       "FATALITIES                     int64\n",
       "TAGS                          object\n",
       "TIMESTAMP                      int64\n",
       "dtype: object"
      ]
     },
     "execution_count": 140,
     "metadata": {},
     "output_type": "execute_result"
    }
   ],
   "source": [
    "crime.dtypes"
   ]
  },
  {
   "cell_type": "code",
   "execution_count": 147,
   "metadata": {},
   "outputs": [],
   "source": [
    "no_of_events_per_year = crime.groupby(['YEAR'])['YEAR'].count()"
   ]
  },
  {
   "cell_type": "code",
   "execution_count": 148,
   "metadata": {},
   "outputs": [
    {
     "data": {
      "text/plain": [
       "YEAR\n",
       "1997     3209\n",
       "1998     4545\n",
       "1999     4882\n",
       "2000     4175\n",
       "2001     3610\n",
       "2002     4297\n",
       "2003     3750\n",
       "2004     3174\n",
       "2005     2909\n",
       "2006     2739\n",
       "2007     3897\n",
       "2008     5084\n",
       "2009     3865\n",
       "2010     4402\n",
       "2011     8146\n",
       "2012     9788\n",
       "2013    14232\n",
       "2014    16588\n",
       "2015    16998\n",
       "2016    17315\n",
       "2017    17656\n",
       "2018    19798\n",
       "2019    26004\n",
       "2020    33421\n",
       "2021    35442\n",
       "2022    36829\n",
       "2023     9185\n",
       "Name: YEAR, dtype: int64"
      ]
     },
     "execution_count": 148,
     "metadata": {},
     "output_type": "execute_result"
    }
   ],
   "source": [
    "no_of_events_per_year"
   ]
  },
  {
   "cell_type": "code",
   "execution_count": 156,
   "metadata": {},
   "outputs": [
    {
     "data": {
      "text/plain": [
       "[<matplotlib.lines.Line2D at 0x7fbd7444db50>]"
      ]
     },
     "execution_count": 156,
     "metadata": {},
     "output_type": "execute_result"
    },
    {
     "data": {
      "image/png": "[encoded data removed]",
      "text/plain": [
       "<Figure size 432x288 with 1 Axes>"
      ]
     },
     "metadata": {
      "needs_background": "light"
     },
     "output_type": "display_data"
    }
   ],
   "source": [
    "plt.plot(no_of_events_per_year.index, no_of_events_per_year.values)"
   ]
  },
  {
   "cell_type": "code",
   "execution_count": 149,
   "metadata": {},
   "outputs": [],
   "source": [
    "no_of_events_per_day = crime.groupby(['EVENT_DATE'])['EVENT_DATE'].count()"
   ]
  },
  {
   "cell_type": "code",
   "execution_count": 154,
   "metadata": {},
   "outputs": [
    {
     "data": {
      "text/plain": [
       "array([ 18,   3,   6, ...,  70, 121,  32])"
      ]
     },
     "execution_count": 154,
     "metadata": {},
     "output_type": "execute_result"
    }
   ],
   "source": [
    "no_of_events_per_day.values"
   ]
  },
  {
   "cell_type": "code",
   "execution_count": 155,
   "metadata": {},
   "outputs": [
    {
     "data": {
      "text/plain": [
       "[<matplotlib.lines.Line2D at 0x7fbd8d6c8350>]"
      ]
     },
     "execution_count": 155,
     "metadata": {},
     "output_type": "execute_result"
    },
    {
     "data": {
      "image/png": "[encoded data removed]",
      "text/plain": [
       "<Figure size 432x288 with 1 Axes>"
      ]
     },
     "metadata": {
      "needs_background": "light"
     },
     "output_type": "display_data"
    }
   ],
   "source": [
    "plt.plot(no_of_events_per_day.index, no_of_events_per_day.values)"
   ]
  },
  {
   "cell_type": "code",
   "execution_count": null,
   "metadata": {},
   "outputs": [],
   "source": []
  }
 ],
 "metadata": {
  "kernelspec": {
   "display_name": "Python 3",
   "language": "python",
   "name": "python3"
  },
  "language_info": {
   "codemirror_mode": {
    "name": "ipython",
    "version": 3
   },
   "file_extension": ".py",
   "mimetype": "text/x-python",
   "name": "python",
   "nbconvert_exporter": "python",
   "pygments_lexer": "ipython3",
   "version": "3.7.6"
  }
 },
 "nbformat": 4,
 "nbformat_minor": 4
}
